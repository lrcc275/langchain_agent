{
 "cells": [
  {
   "cell_type": "code",
   "execution_count": 12,
   "id": "fa66c84d",
   "metadata": {},
   "outputs": [],
   "source": [
    "from agent import run\n",
    "from prompt import *\n",
    "import numpy as np\n",
    "import random\n",
    "from evaluation import check"
   ]
  },
  {
   "cell_type": "code",
   "execution_count": null,
   "id": "fc9a0643",
   "metadata": {},
   "outputs": [],
   "source": [
    "times = np.zeros((11,20))\n",
    "corrects = np.zeros((11,20))"
   ]
  },
  {
   "cell_type": "code",
   "execution_count": null,
   "id": "ad2b543d",
   "metadata": {},
   "outputs": [
    {
     "name": "stdout",
     "output_type": "stream",
     "text": [
      "[95, 10, 29, 80, 6, 76, 52, 94, 83, 71, 2, 7, 8, 55, 20, 89, 25, 36, 39, 19]\n",
      "95\n",
      "data/95.txt data/95_original.npy result/1_95.npy result/1_95.py log/1_95.txt\n",
      "(1)使用parse_eeg_data工具，解析同目录下的data/95.txt；(2)编写并且运行python代码，对同目录下的data/95_original.npy,计算每个通道的峰峰值、均值和方差，打印结果, 将数值以(7,3)的格式存到同目录下的result/1_95.npy, (3)将代码保存到result/1_95.py\n",
      "log/1_95.txt\n",
      "(1)使用parse_eeg_data工具，解析同目录下的data/95.txt；(2)编写并且运行python代码，对同目录下的data/95_original.npy,计算每个通道的峰峰值、均值和方差，打印结果, 将数值以(7,3)的格式存到同目录下的result/1_95.npy, (3)将代码保存到result/1_95.py\n"
     ]
    },
    {
     "name": "stderr",
     "output_type": "stream",
     "text": [
      "Python REPL can execute arbitrary code. Use with caution.\n",
      "Stopping agent prematurely due to triggering stop condition\n"
     ]
    },
    {
     "name": "stdout",
     "output_type": "stream",
     "text": [
      "task (1)使用parse_eeg_data工具，解析同目录下的data/95.txt；(2)编写并且运行python代码，对同目录下的data/95_original.npy,计算每个通道的峰峰值、均值和方差，打印结果, 将数值以(7,3)的格式存到同目录下的result/1_95.npy, (3)将代码保存到result/1_95.py is over!\n"
     ]
    },
    {
     "ename": "FileNotFoundError",
     "evalue": "[Errno 2] No such file or directory: 'solve.npy'",
     "output_type": "error",
     "traceback": [
      "\u001b[0;31m---------------------------------------------------------------------------\u001b[0m",
      "\u001b[0;31mFileNotFoundError\u001b[0m                         Traceback (most recent call last)",
      "Cell \u001b[0;32mIn[14], line 18\u001b[0m\n\u001b[1;32m     16\u001b[0m     times[i][count] \u001b[38;5;241m=\u001b[39m run(\u001b[38;5;28minput\u001b[39m,log_name\u001b[38;5;241m=\u001b[39mlog_name)\n\u001b[1;32m     17\u001b[0m     count \u001b[38;5;241m=\u001b[39m count \u001b[38;5;241m+\u001b[39m \u001b[38;5;241m1\u001b[39m\n\u001b[0;32m---> 18\u001b[0m     corrects[i][count] \u001b[38;5;241m=\u001b[39m \u001b[43mcheck\u001b[49m\u001b[43m(\u001b[49m\u001b[43mfile2\u001b[49m\u001b[43m,\u001b[49m\u001b[43m \u001b[49m\u001b[43mfile3\u001b[49m\u001b[43m,\u001b[49m\u001b[43m \u001b[49m\u001b[43mi\u001b[49m\u001b[43m \u001b[49m\u001b[38;5;241;43m+\u001b[39;49m\u001b[43m \u001b[49m\u001b[38;5;241;43m1\u001b[39;49m\u001b[43m,\u001b[49m\u001b[43m \u001b[49m\u001b[38;5;241;43m0.01\u001b[39;49m\u001b[43m)\u001b[49m\n\u001b[1;32m     19\u001b[0m     \u001b[38;5;28;01mbreak\u001b[39;00m\n\u001b[1;32m     20\u001b[0m \u001b[38;5;28;01mbreak\u001b[39;00m\n",
      "File \u001b[0;32m~/Desktop/langchain_agent/langchain_agent/evaluation.py:148\u001b[0m, in \u001b[0;36mcheck\u001b[0;34m(file_path1, file_path2, percent, task)\u001b[0m\n\u001b[1;32m    146\u001b[0m \u001b[38;5;28;01melif\u001b[39;00m task \u001b[38;5;241m==\u001b[39m \u001b[38;5;241m11\u001b[39m:\n\u001b[1;32m    147\u001b[0m     sol_11(file_path1,\u001b[38;5;124m\"\u001b[39m\u001b[38;5;124msolve.npy\u001b[39m\u001b[38;5;124m\"\u001b[39m)\n\u001b[0;32m--> 148\u001b[0m \u001b[38;5;28;01mreturn\u001b[39;00m \u001b[43mcheck_onefile\u001b[49m\u001b[43m(\u001b[49m\u001b[38;5;124;43m\"\u001b[39;49m\u001b[38;5;124;43msolve.npy\u001b[39;49m\u001b[38;5;124;43m\"\u001b[39;49m\u001b[43m,\u001b[49m\u001b[43m \u001b[49m\u001b[43mfile_path2\u001b[49m\u001b[43m,\u001b[49m\u001b[43m \u001b[49m\u001b[43mpercent\u001b[49m\u001b[43m)\u001b[49m\n",
      "File \u001b[0;32m~/Desktop/langchain_agent/langchain_agent/evaluation.py:44\u001b[0m, in \u001b[0;36mcheck_onefile\u001b[0;34m(file_path1, file_path2, percent)\u001b[0m\n\u001b[1;32m     43\u001b[0m \u001b[38;5;28;01mdef\u001b[39;00m\u001b[38;5;250m \u001b[39m\u001b[38;5;21mcheck_onefile\u001b[39m(file_path1, file_path2, percent):\n\u001b[0;32m---> 44\u001b[0m     sol \u001b[38;5;241m=\u001b[39m \u001b[43mnp\u001b[49m\u001b[38;5;241;43m.\u001b[39;49m\u001b[43mload\u001b[49m\u001b[43m(\u001b[49m\u001b[43mfile_path1\u001b[49m\u001b[43m)\u001b[49m\n\u001b[1;32m     45\u001b[0m     actual \u001b[38;5;241m=\u001b[39m np\u001b[38;5;241m.\u001b[39mload(file_path2)\n\u001b[1;32m     46\u001b[0m     \u001b[38;5;28;01mreturn\u001b[39;00m check_matrices(sol, actual, percent)\n",
      "File \u001b[0;32m/opt/anaconda3/envs/pytorch/lib/python3.10/site-packages/numpy/lib/_npyio_impl.py:451\u001b[0m, in \u001b[0;36mload\u001b[0;34m(file, mmap_mode, allow_pickle, fix_imports, encoding, max_header_size)\u001b[0m\n\u001b[1;32m    449\u001b[0m     own_fid \u001b[38;5;241m=\u001b[39m \u001b[38;5;28;01mFalse\u001b[39;00m\n\u001b[1;32m    450\u001b[0m \u001b[38;5;28;01melse\u001b[39;00m:\n\u001b[0;32m--> 451\u001b[0m     fid \u001b[38;5;241m=\u001b[39m stack\u001b[38;5;241m.\u001b[39menter_context(\u001b[38;5;28;43mopen\u001b[39;49m\u001b[43m(\u001b[49m\u001b[43mos\u001b[49m\u001b[38;5;241;43m.\u001b[39;49m\u001b[43mfspath\u001b[49m\u001b[43m(\u001b[49m\u001b[43mfile\u001b[49m\u001b[43m)\u001b[49m\u001b[43m,\u001b[49m\u001b[43m \u001b[49m\u001b[38;5;124;43m\"\u001b[39;49m\u001b[38;5;124;43mrb\u001b[39;49m\u001b[38;5;124;43m\"\u001b[39;49m\u001b[43m)\u001b[49m)\n\u001b[1;32m    452\u001b[0m     own_fid \u001b[38;5;241m=\u001b[39m \u001b[38;5;28;01mTrue\u001b[39;00m\n\u001b[1;32m    454\u001b[0m \u001b[38;5;66;03m# Code to distinguish from NumPy binary files and pickles.\u001b[39;00m\n",
      "\u001b[0;31mFileNotFoundError\u001b[0m: [Errno 2] No such file or directory: 'solve.npy'"
     ]
    }
   ],
   "source": [
    "for i in range(0,11):\n",
    "    used_datas = random.sample(range(1,97), 20)\n",
    "    print(used_datas)\n",
    "    count = 0\n",
    "    for j in used_datas:\n",
    "        print(j)\n",
    "        s = str(j)\n",
    "        file1 = \"data/\" + s + \".txt\"\n",
    "        file2 = \"data/\" + s + \"_original.npy\"\n",
    "        file3 = \"result/\" + str(i+1) + \"_\" + s + \".npy\"\n",
    "        file4 = \"result/\" + str(i+1) + \"_\" + s + \".py\"\n",
    "        log_name = \"log/\" + str(i+1) + \"_\" + s + \".txt\"\n",
    "        print(file1, file2, file3, file4,log_name)\n",
    "        input = generate_input(file1,file2,file3,file4,task_requirements(i+1),data_formats(i+1))\n",
    "        print(input)\n",
    "        times[i][count] = run(input,log_name=log_name)\n",
    "        count = count + 1\n",
    "        corrects[i][count] = check(file2, file3, 0.01, i + 1)\n",
    "        break\n",
    "    break\n",
    "    "
   ]
  },
  {
   "cell_type": "code",
   "execution_count": 17,
   "id": "91d2aab3",
   "metadata": {},
   "outputs": [
    {
     "name": "stdout",
     "output_type": "stream",
     "text": [
      "成功读取数据。数组形状为: (7, 132165)\n",
      "计算每个通道的峰峰值、均值和方差...\n",
      "统计结果已保存至 solve.npy\n"
     ]
    },
    {
     "data": {
      "text/plain": [
       "0"
      ]
     },
     "execution_count": 17,
     "metadata": {},
     "output_type": "execute_result"
    }
   ],
   "source": [
    "check(\"data/95_original.npy\",\"result/1_95.npy\",0.01, 1)"
   ]
  }
 ],
 "metadata": {
  "kernelspec": {
   "display_name": "pytorch",
   "language": "python",
   "name": "python3"
  },
  "language_info": {
   "codemirror_mode": {
    "name": "ipython",
    "version": 3
   },
   "file_extension": ".py",
   "mimetype": "text/x-python",
   "name": "python",
   "nbconvert_exporter": "python",
   "pygments_lexer": "ipython3",
   "version": "3.10.16"
  }
 },
 "nbformat": 4,
 "nbformat_minor": 5
}
